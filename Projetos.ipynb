{
  "nbformat": 4,
  "nbformat_minor": 0,
  "metadata": {
    "colab": {
      "provenance": [],
      "authorship_tag": "ABX9TyOG2IB9wPNG+XQ1QB1L6ntW",
      "include_colab_link": true
    },
    "kernelspec": {
      "name": "python3",
      "display_name": "Python 3"
    },
    "language_info": {
      "name": "python"
    }
  },
  "cells": [
    {
      "cell_type": "markdown",
      "metadata": {
        "id": "view-in-github",
        "colab_type": "text"
      },
      "source": [
        "<a href=\"https://colab.research.google.com/github/DarvinCP/LLM_project/blob/main/Projetos.ipynb\" target=\"_parent\"><img src=\"https://colab.research.google.com/assets/colab-badge.svg\" alt=\"Open In Colab\"/></a>"
      ]
    },
    {
      "cell_type": "markdown",
      "source": [
        "Instalação de requisitos\n"
      ],
      "metadata": {
        "id": "WFwxbD57Z0xr"
      }
    },
    {
      "cell_type": "code",
      "execution_count": 1,
      "metadata": {
        "id": "djEsvUYHZnlu"
      },
      "outputs": [],
      "source": [
        "!pip install -q -U google-generativeai"
      ]
    },
    {
      "cell_type": "code",
      "source": [
        "import pathlib\n",
        "import textwrap\n",
        "\n",
        "import google.generativeai as genai\n",
        "\n",
        "from IPython.display import display\n",
        "from IPython.display import Markdown\n",
        "\n",
        "\n",
        "def to_markdown(text):\n",
        "  text = text.replace('•', '  *')\n",
        "  return Markdown(textwrap.indent(text, '> ', predicate=lambda _: True))\n",
        "\n",
        "for message in chat.history:\n",
        "  display(to_markdown(f'**{message.role}**:{message.parts[0].text}'))\n",
        "  print(\"----------------------------------\")\n",
        ""
      ],
      "metadata": {
        "colab": {
          "base_uri": "https://localhost:8080/",
          "height": 638
        },
        "id": "szTLYVhVaH7z",
        "outputId": "fdb1a26c-5937-45c4-eb4d-839c557d93a6"
      },
      "execution_count": 32,
      "outputs": [
        {
          "output_type": "display_data",
          "data": {
            "text/plain": [
              "<IPython.core.display.Markdown object>"
            ],
            "text/markdown": "> **user**:Quantos planetas existem no sistema solar?"
          },
          "metadata": {}
        },
        {
          "output_type": "stream",
          "name": "stdout",
          "text": [
            "----------------------------------\n"
          ]
        },
        {
          "output_type": "display_data",
          "data": {
            "text/plain": [
              "<IPython.core.display.Markdown object>"
            ],
            "text/markdown": "> **model**:8"
          },
          "metadata": {}
        },
        {
          "output_type": "stream",
          "name": "stdout",
          "text": [
            "----------------------------------\n"
          ]
        },
        {
          "output_type": "display_data",
          "data": {
            "text/plain": [
              "<IPython.core.display.Markdown object>"
            ],
            "text/markdown": "> **user**:qual o mais quente?"
          },
          "metadata": {}
        },
        {
          "output_type": "stream",
          "name": "stdout",
          "text": [
            "----------------------------------\n"
          ]
        },
        {
          "output_type": "display_data",
          "data": {
            "text/plain": [
              "<IPython.core.display.Markdown object>"
            ],
            "text/markdown": "> **model**:Vênus"
          },
          "metadata": {}
        },
        {
          "output_type": "stream",
          "name": "stdout",
          "text": [
            "----------------------------------\n"
          ]
        },
        {
          "output_type": "display_data",
          "data": {
            "text/plain": [
              "<IPython.core.display.Markdown object>"
            ],
            "text/markdown": "> **user**:Por que ele é o mais quente?"
          },
          "metadata": {}
        },
        {
          "output_type": "stream",
          "name": "stdout",
          "text": [
            "----------------------------------\n"
          ]
        },
        {
          "output_type": "display_data",
          "data": {
            "text/plain": [
              "<IPython.core.display.Markdown object>"
            ],
            "text/markdown": "> **model**:Vênus é o planeta mais quente do sistema solar devido a um efeito estufa descontrolado. Aqui estão as principais razões:\n> \n> * **Espessa atmosfera de dióxido de carbono:** Vênus tem uma atmosfera extremamente espessa composta por 96,5% de dióxido de carbono (CO2). O CO2 é um gás de efeito estufa que absorve e retém o calor do sol.\n> \n> * **Nuvens espessas de ácido sulfúrico:** A atmosfera de Vênus também é coberta por nuvens espessas de ácido sulfúrico, que refletem a luz solar de volta para o planeta. Isso impede que o calor escape para o espaço, prendendo-o na atmosfera.\n> \n> * **Pressão atmosférica esmagadora:** A pressão atmosférica na superfície de Vênus é 92 vezes maior do que na Terra. Essa pressão extrema comprime a atmosfera, tornando-a ainda mais eficaz na retenção de calor.\n> \n> * **Falta de água líquida:** Vênus não tem água líquida em sua superfície, o que significa que não há nuvens de água para refletir o calor de volta para o espaço.\n> \n> * **Rotação lenta:** Vênus gira muito lentamente em seu eixo, levando 243 dias terrestres para completar uma rotação. Essa rotação lenta impede a formação de ventos fortes que poderiam ajudar a distribuir o calor ao redor do planeta.\n> \n> Como resultado desses fatores combinados, a temperatura da superfície de Vênus pode atingir até 462 graus Celsius (863 graus Fahrenheit), tornando-o o planeta mais quente do sistema solar."
          },
          "metadata": {}
        },
        {
          "output_type": "stream",
          "name": "stdout",
          "text": [
            "----------------------------------\n"
          ]
        }
      ]
    },
    {
      "cell_type": "markdown",
      "source": [
        "Dados da Key API\n"
      ],
      "metadata": {
        "id": "_U-kIzbYZ864"
      }
    },
    {
      "cell_type": "code",
      "source": [
        "# Used to securely store your API key\n",
        "from google.colab import userdata\n",
        "# Or use `os.getenv('GOOGLE_API_KEY')` to fetch an environment variable.\n",
        "GOOGLE_API_KEY=userdata.get('GOOGLE_API_KEY')\n",
        "genai.configure(api_key=GOOGLE_API_KEY)"
      ],
      "metadata": {
        "id": "mwSi94qLZ5uv"
      },
      "execution_count": 34,
      "outputs": []
    },
    {
      "cell_type": "markdown",
      "source": [
        "Listar modelos\n"
      ],
      "metadata": {
        "id": "Y1R2pQN_amzy"
      }
    },
    {
      "cell_type": "code",
      "source": [
        "for m in genai.list_models():\n",
        "  if 'generateContent' in m.supported_generation_methods:\n",
        "    print(m.name)"
      ],
      "metadata": {
        "colab": {
          "base_uri": "https://localhost:8080/",
          "height": 139
        },
        "id": "_L2XU0-Wao1r",
        "outputId": "c93ffaa3-e143-4440-a31d-b2741f1b9ee1"
      },
      "execution_count": 4,
      "outputs": [
        {
          "output_type": "stream",
          "name": "stdout",
          "text": [
            "models/gemini-1.0-pro\n",
            "models/gemini-1.0-pro-001\n",
            "models/gemini-1.0-pro-latest\n",
            "models/gemini-1.0-pro-vision-latest\n",
            "models/gemini-1.5-pro-latest\n",
            "models/gemini-pro\n",
            "models/gemini-pro-vision\n"
          ]
        }
      ]
    },
    {
      "cell_type": "markdown",
      "source": [
        "Configurar modelo"
      ],
      "metadata": {
        "id": "eUvd975Bcjbo"
      }
    },
    {
      "cell_type": "code",
      "source": [
        "Configuration_model={\n",
        "    \"candidate_count\" : 1,\n",
        "    \"temperature\" : 0.5\n",
        "}"
      ],
      "metadata": {
        "id": "fD4g1Sdncmc4"
      },
      "execution_count": 7,
      "outputs": []
    },
    {
      "cell_type": "code",
      "source": [
        "Safety_settings={\n",
        "    \"hate\" : \"BLOCK_NONE\",\n",
        "    \"HARASSMENT\" : \"BLOCK_NONE\",\n",
        "    \"DANGEROUS\": \"BLOCK_NONE\",\n",
        "    \"SEXUAL\" :\"BLOCK_NONE\"\n",
        "}"
      ],
      "metadata": {
        "id": "2Q5hkoYHc7HV"
      },
      "execution_count": 23,
      "outputs": []
    },
    {
      "cell_type": "markdown",
      "source": [
        "Inicializar o modelo"
      ],
      "metadata": {
        "id": "hBKwC3ZaeGcR"
      }
    },
    {
      "cell_type": "code",
      "source": [
        "modelo= genai.GenerativeModel(model_name=\"gemini-1.0-pro\",generation_config= Configuration_model,safety_settings= Safety_settings )"
      ],
      "metadata": {
        "id": "VjCi4cdBeJJO"
      },
      "execution_count": 24,
      "outputs": []
    },
    {
      "cell_type": "markdown",
      "source": [
        "Teste do modelo"
      ],
      "metadata": {
        "id": "23NwGtt6gs-D"
      }
    },
    {
      "cell_type": "code",
      "source": [
        "response = modelo.generate_content(\"Fale sobre o clima do Rio Grande do Sul\")\n",
        "print(response.text)"
      ],
      "metadata": {
        "colab": {
          "base_uri": "https://localhost:8080/",
          "height": 798
        },
        "id": "7zGwElOEgvR3",
        "outputId": "3cb01a9f-60e1-440c-cd98-3b6987180bbc"
      },
      "execution_count": 27,
      "outputs": [
        {
          "output_type": "stream",
          "name": "stdout",
          "text": [
            "**Clima do Rio Grande do Sul**\n",
            "\n",
            "O Rio Grande do Sul possui um clima subtropical úmido, com quatro estações distintas.\n",
            "\n",
            "**Verão (dezembro a março)**\n",
            "\n",
            "* Quente e úmido\n",
            "* Temperaturas médias entre 20°C e 30°C\n",
            "* Chuvas frequentes, especialmente em janeiro e fevereiro\n",
            "* Pode ocorrer tempestades e granizos ocasionais\n",
            "\n",
            "**Outono (abril a junho)**\n",
            "\n",
            "* Temperaturas amenas\n",
            "* Chuvas diminuem gradualmente\n",
            "* Folhas das árvores começam a mudar de cor\n",
            "\n",
            "**Inverno (julho a setembro)**\n",
            "\n",
            "* Frio e úmido\n",
            "* Temperaturas médias entre 5°C e 15°C\n",
            "* Geadas e nevoeiros são comuns\n",
            "* Pode ocorrer neve em áreas mais altas\n",
            "\n",
            "**Primavera (outubro a novembro)**\n",
            "\n",
            "* Temperaturas começam a subir\n",
            "* Chuvas aumentam gradualmente\n",
            "* Florescem as árvores e plantas\n",
            "\n",
            "**Características Regionais**\n",
            "\n",
            "* **Litoral:** Clima oceânico, com temperaturas mais amenas e chuvas mais frequentes durante todo o ano.\n",
            "* **Planície Costeira:** Clima subtropical úmido, com verões quentes e úmidos e invernos frios e úmidos.\n",
            "* **Planalto:** Clima subtropical úmido, com verões quentes e chuvosos e invernos frios e secos.\n",
            "* **Serra Gaúcha:** Clima subtropical úmido, com verões quentes e chuvosos e invernos frios e secos. Pode ocorrer neve nas áreas mais altas.\n",
            "\n",
            "**Influências**\n",
            "\n",
            "O clima do Rio Grande do Sul é influenciado por vários fatores, incluindo:\n",
            "\n",
            "* Latitude e altitude\n",
            "* Proximidade com o Oceano Atlântico\n",
            "* Massas de ar frias e quentes\n",
            "* Relevo\n"
          ]
        }
      ]
    },
    {
      "cell_type": "markdown",
      "source": [
        "Iniciar Chat"
      ],
      "metadata": {
        "id": "4ZzZaHSzhrg6"
      }
    },
    {
      "cell_type": "code",
      "source": [
        "chat = modelo.start_chat(history=[])\n"
      ],
      "metadata": {
        "id": "nZs4a7ZhhuH3"
      },
      "execution_count": 29,
      "outputs": []
    },
    {
      "cell_type": "code",
      "source": [
        "prompt = input(\"Esperando prompt:\")\n",
        "\n",
        "while prompt != \"fim\":\n",
        "  response = chat.send_message(prompt)\n",
        "  print(\"Resposta: \", response.text, \"\\n\")\n",
        "  prompt = input(\"Esperando prompt:\")"
      ],
      "metadata": {
        "colab": {
          "base_uri": "https://localhost:8080/",
          "height": 419
        },
        "id": "BA_IeTkgiQnH",
        "outputId": "b29f322a-136b-4455-e567-67ca789f5f0e"
      },
      "execution_count": 31,
      "outputs": [
        {
          "name": "stdout",
          "output_type": "stream",
          "text": [
            "Esperando prompt:Quantos planetas existem no sistema solar?\n",
            "Resposta:  8 \n",
            "\n",
            "Esperando prompt:qual o mais quente?\n",
            "Resposta:  Vênus \n",
            "\n",
            "Esperando prompt:Por que ele é o mais quente?\n",
            "Resposta:  Vênus é o planeta mais quente do sistema solar devido a um efeito estufa descontrolado. Aqui estão as principais razões:\n",
            "\n",
            "* **Espessa atmosfera de dióxido de carbono:** Vênus tem uma atmosfera extremamente espessa composta por 96,5% de dióxido de carbono (CO2). O CO2 é um gás de efeito estufa que absorve e retém o calor do sol.\n",
            "\n",
            "* **Nuvens espessas de ácido sulfúrico:** A atmosfera de Vênus também é coberta por nuvens espessas de ácido sulfúrico, que refletem a luz solar de volta para o planeta. Isso impede que o calor escape para o espaço, prendendo-o na atmosfera.\n",
            "\n",
            "* **Pressão atmosférica esmagadora:** A pressão atmosférica na superfície de Vênus é 92 vezes maior do que na Terra. Essa pressão extrema comprime a atmosfera, tornando-a ainda mais eficaz na retenção de calor.\n",
            "\n",
            "* **Falta de água líquida:** Vênus não tem água líquida em sua superfície, o que significa que não há nuvens de água para refletir o calor de volta para o espaço.\n",
            "\n",
            "* **Rotação lenta:** Vênus gira muito lentamente em seu eixo, levando 243 dias terrestres para completar uma rotação. Essa rotação lenta impede a formação de ventos fortes que poderiam ajudar a distribuir o calor ao redor do planeta.\n",
            "\n",
            "Como resultado desses fatores combinados, a temperatura da superfície de Vênus pode atingir até 462 graus Celsius (863 graus Fahrenheit), tornando-o o planeta mais quente do sistema solar. \n",
            "\n",
            "Esperando prompt:fim\n"
          ]
        }
      ]
    }
  ]
}